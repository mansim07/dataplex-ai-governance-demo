{
  "cells": [
    {
      "cell_type": "code",
      "execution_count": null,
      "metadata": {
        "id": "7PUjT5KjeGxJ"
      },
      "outputs": [],
      "source": [
        "# Copyright 2021 Google LLC\n",
        "#\n",
        "# Licensed under the Apache License, Version 2.0 (the \"License\");\n",
        "# you may not use this file except in compliance with the License.\n",
        "# You may obtain a copy of the License at\n",
        "#\n",
        "#     https://www.apache.org/licenses/LICENSE-2.0\n",
        "#\n",
        "# Unless required by applicable law or agreed to in writing, software\n",
        "# distributed under the License is distributed on an \"AS IS\" BASIS,\n",
        "# WITHOUT WARRANTIES OR CONDITIONS OF ANY KIND, either express or implied.\n",
        "# See the License for the specific language governing permissions and\n",
        "# limitations under the License."
      ]
    },
    {
      "cell_type": "markdown",
      "metadata": {
        "id": "JAPoU8Sm5E6e"
      },
      "source": [
        "# AI Governance with Dataplex Demo Series: Cataloging a Model Card\n",
        "\n",
        "<table align=\"left\">\n",
        "  <td style=\"text-align: center\">\n",
        "    <a href=\"https://colab.sandbox.google.com/drive/1zRYLNJp8oR4xpcMP673Lujtx3mEAhmEf#scrollTo=JAPoU8Sm5E6e\">\n",
        "      <img src=\"https://cloud.google.com/ml-engine/images/colab-logo-32px.png\" alt=\"Google Colaboratory logo\"><br> Open in Colab\n",
        "    </a>\n",
        "  </td>\n",
        "  <td style=\"text-align: center\">\n",
        "    <a href=\"https://console.cloud.google.com/vertex-ai/colab/import/https:%2F%2Fraw.githubusercontent.com%2FGoogleCloudPlatform%2Fvertex-ai-samples%2Fmain%2Fnotebooks%2Fofficial%2Fcustom%2FSDK_Custom_Container_Predi\">\n",
        "      <img width=\"32px\" src=\"https://cloud.google.com/ml-engine/images/colab-enterprise-logo-32px.png\" alt=\"Google Cloud Colab Enterprise logo\"><br> Open in Colab Enterprise\n",
        "    </a>\n",
        "  </td>    \n",
        "  <td style=\"text-align: center\">\n",
        "    <a href=\"https://console.cloud.google.com/vertex-ai/workbench/deploy-notebook?download_url=https://raw.githubusercontent.com/GoogleCloudPlatform/vertex-ai-samples/main/notebooks/official/custom/SDK_Custom_Container_Pre\">\n",
        "      <img src=\"https://lh3.googleusercontent.com/UiNooY4LUgW_oTvpsNhPpQzsstV5W8F7rYgxgGBD85cWJoLmrOzhVs_ksK_vgx40SHs7jCqkTkCk=e14-rj-sc0xffffff-h130-w32\" alt=\"Vertex AI logo\"><br> Open in Workbench\n",
        "    </a>\n",
        "  </td>\n",
        "  <td style=\"text-align: center\">\n",
        "    <a href=\"https://github.com/mansim07/dataplex-ai-governance-demo/blob/main/notebooks/Cataoging_ModelCard_Using_Dataplex.ipynb\">\n",
        "      <img src=\"https://cloud.google.com/ml-engine/images/github-logo-32px.png\" alt=\"GitHub logo\"><br> View on GitHub\n",
        "    </a>\n",
        "  </td>\n",
        "</table>"
      ]
    },
    {
      "cell_type": "markdown",
      "metadata": {
        "id": "tvgnzT1CKxrO"
      },
      "source": [
        "## Overview\n",
        "\n",
        "In this demo, we'll demonstrate how to catalog a sample Model Card using [Model Card Toolkit](https://research.google/blog/introducing-the-model-card-toolkit-for-easier-model-transparency-reporting/) in Dataplex alongside its corresponding technical model entry. Model cards are crucial for responsible AI practices. Cataloging them within Dataplex offers several key advantages:\n",
        "\n",
        "* **Enriched Metadata**:Improve model discoverability and understanding\n",
        "* **Built-in Trust**: Document model lineage, evaluation metrics, and intended use\n",
        "*  **Comprehensive Documentation**: Centralize model-related information\n",
        "*  **Enhanced Search**: Easily find models based on keywords and attributes\n",
        "\n",
        "By the end of this demo, you'll understand how to leverage Dataplex to effectively manage and document your machine learning models, fostering transparency and trust.\n",
        "\n",
        "Learn more about [Model Cards](https://modelcards.withgoogle.com/about), [Model Card Toolkit](https://research.google/blog/introducing-the-model-card-toolkit-for-easier-model-transparency-reporting/),[Cloud Dataplex](https://cloud.google.com/dataplex?e=48754805&hl=en)."
      ]
    },
    {
      "cell_type": "markdown",
      "metadata": {
        "id": "k7X6jZ3dCCY9"
      },
      "source": [
        "## Objective\n",
        "\n",
        "This notebook demonstrates how to generate a Model Card in HTML format using the MCT Toolkit and integrate it into Dataplex Catalog. We will extend this existing [sample code](https://github.com/tensorflow/model-card-toolkit/blob/main/model_card_toolkit/documentation/examples/Standalone_Model_Card_Toolkit_Demo.ipynb) to include Dataplex modules for cataloging the generated model card.\n",
        "\n",
        "The steps performed include:\n",
        "1. Executing an existing example from the MCT library to generate model card\n",
        "2. Export the model card in HTML format using a custom jinja template\n",
        "3. Create a custom technical entry in Dataplex catalog\n",
        "4. Push the model card into the Entry Overview (free-style):\n",
        "5. [In Future] Create a set of Model card aspects and push the model details into individual aspects:\n",
        "\n",
        "We are using a Keras model in this demo. But the logic below also applies to any ML frameworks in general."
      ]
    },
    {
      "cell_type": "markdown",
      "metadata": {
        "id": "aaj5Be93M-kM"
      },
      "source": [
        "## Setup"
      ]
    },
    {
      "cell_type": "markdown",
      "metadata": {
        "id": "JgY2XpcuNDcB"
      },
      "source": [
        "### Upgrade pip and install mct, tensorflow and google cloud dataplex libraries"
      ]
    },
    {
      "cell_type": "code",
      "execution_count": null,
      "metadata": {
        "colab": {
          "base_uri": "https://localhost:8080/",
          "height": 1000
        },
        "collapsed": true,
        "id": "bJxu9-MUnDLq",
        "outputId": "782863b0-dff0-414e-9ad7-4d5d9f73b19b"
      },
      "outputs": [],
      "source": [
        "!pip install --upgrade pip\n",
        "!pip install 'model-card-toolkit' --use-deprecated=legacy-resolver\n",
        "!pip install 'tensorflow'\n",
        "!pip install 'tensorflow-datasets'\n",
        "!pip install google-cloud-dataplex"
      ]
    },
    {
      "cell_type": "markdown",
      "metadata": {
        "id": "9Cp5s5rHNgVn"
      },
      "source": [
        "### Restart runtime(Colab only)\n",
        "\n",
        "To use the newly installed packages, you must restart the runtime on Google Colab"
      ]
    },
    {
      "cell_type": "code",
      "execution_count": null,
      "metadata": {
        "id": "Cn63LJ-rRjI2"
      },
      "outputs": [],
      "source": [
        "import sys\n",
        "\n",
        "if \"google.colab\" in sys.modules:\n",
        "\n",
        "    import IPython\n",
        "\n",
        "    app = IPython.Application.instance()\n",
        "    app.kernel.do_shutdown(True)"
      ]
    },
    {
      "cell_type": "markdown",
      "metadata": {
        "id": "AQ3F7vO4LGEA"
      },
      "source": [
        "### Imports"
      ]
    },
    {
      "cell_type": "code",
      "execution_count": null,
      "metadata": {
        "id": "Yhx1KOvp8vC1"
      },
      "outputs": [],
      "source": [
        "import tensorflow as tf\n",
        "import numpy as np\n",
        "import model_card_toolkit as mct\n",
        "from model_card_toolkit.documentation.examples import cats_vs_dogs\n",
        "from model_card_toolkit.utils.graphics import figure_to_base64str\n",
        "import tempfile\n",
        "import matplotlib.pyplot as plt\n",
        "from IPython import display\n",
        "import requests\n",
        "import os\n",
        "import zipfile\n",
        "\n",
        "#Demo uses the latest Dataplex APIs\n",
        "from google.cloud import dataplex_v1\n",
        "\n",
        "from requests import get\n",
        "from socket import gethostname, gethostbyname\n",
        "\n"
      ]
    },
    {
      "cell_type": "markdown",
      "metadata": {
        "id": "02bEtuyeSCna"
      },
      "source": [
        "## Model\n",
        "\n",
        "We will use a pretrained model with architecture based off [MobileNetV2](https://arxiv.org/abs/1801.04381), a popular 16-layer image classification model. Our model has been trained to distinguish between betweens cats and dogs using the [Cats vs Dogs](https://www.tensorflow.org/datasets/catalog/cats_vs_dogs) dataset. The model training was based on the [TensorFlow transfer learning tutorial](https://www.tensorflow.org/tutorials/images/transfer_learning).\n",
        "\n",
        "![pets.png](data:image/png;base64,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)"
      ]
    },
    {
      "cell_type": "code",
      "execution_count": null,
      "metadata": {
        "colab": {
          "base_uri": "https://localhost:8080/"
        },
        "id": "5sUmCzuk_cYl",
        "outputId": "1e36d955-1ec0-4502-eecb-c38f0620c245"
      },
      "outputs": [],
      "source": [
        "URL = 'https://storage.googleapis.com/cats_vs_dogs_model/cats_vs_dogs_model.zip'\n",
        "BASE_PATH = tempfile.mkdtemp()\n",
        "ZIP_PATH = os.path.join(BASE_PATH, 'cats_vs_dogs_model.zip')\n",
        "MODEL_PATH = os.path.join(BASE_PATH,'cats_vs_dogs_model')\n",
        "\n",
        "r = requests.get(URL, allow_redirects=True)\n",
        "open(ZIP_PATH, 'wb').write(r.content)\n",
        "\n",
        "with zipfile.ZipFile(ZIP_PATH, 'r') as zip_ref:\n",
        "    zip_ref.extractall(BASE_PATH)\n",
        "\n",
        "model = tf.keras.models.load_model(MODEL_PATH)"
      ]
    },
    {
      "cell_type": "markdown",
      "metadata": {
        "id": "xUg3A_j5TBp6"
      },
      "source": [
        "### Dataset\n",
        "\n",
        "In the cats-vs-dogs dataset, label=0 corresponds to cats while label=1 corresponds to dogs"
      ]
    },
    {
      "cell_type": "markdown",
      "metadata": {
        "id": "wVWD9uGYrRXx"
      },
      "source": [
        "#### Download Data from Tensorflow Datasets library"
      ]
    },
    {
      "cell_type": "code",
      "execution_count": null,
      "metadata": {
        "colab": {
          "base_uri": "https://localhost:8080/",
          "height": 136,
          "referenced_widgets": [
            "edf90b544fb34d11a6347bcdd58b05d4",
            "58988c6ec9054ee0af2bf1d73d9ad722",
            "f3a00890bc1c4b60961e03f22c29d649",
            "28fc70ed13b543ed8dd55eaf5d6cc1a7",
            "fcf0680788044c7996ecd16e8fd0637f",
            "a8c52025ed8c4e1fb0cae859a1737337",
            "442fd304a9dc492ea9c7f3c92965100c",
            "c7e9f81db93a43c6879e55a85ce8121b",
            "0f2ea6dfd5ff4927ad1837683fce3de7",
            "cfca48a0bb3c42b08dad8a9bb10578ab",
            "409397ffc0684f51bbb4716e43f9aa25",
            "023515f6b18447e4898876729fe8532e",
            "6d6caa2ea0124f7e90522ad89674342d",
            "645bb616c74342c2a590c27af5c4ac0a",
            "cdc80c3fe9c14a13a653e21590e1d0ad",
            "033217c1d2cb4fb58431b39c404b339d",
            "226f676043c64ec4a45c68f1d5af7c99",
            "5cdc3b99433247a99edddd5942ad1207",
            "57e104e2efa740d2995a1eaea0188557",
            "7b7b052b1e2d485f84470e4647f2e71b",
            "8ba73a9e85d24d18aa6bd812f7543d07",
            "b7d341c77a0142a281165a278c2d2075",
            "41bbf0b158074079889f2349533b81ea",
            "d00d6bdec40942b8a4a508ab3f754eae",
            "44fde7cae2c7483c93d8aaf16659bdc0",
            "789bfa611de44e6782a7e5c9c2d6ecd8",
            "80460595c1f441cd8046c08aa7038b35",
            "5076b324cef940a98cef370c28abf535",
            "a1b56c67e5944255bc16aaa7af890b29",
            "56e89052e57b4247b427e4be73d5bd19",
            "e4765afbce064d3ba78154749c58e9b3",
            "9a8591ff37834c11a6f150ab1dd21f34",
            "82f2dd07c4ca415d8ed04e0d9f35478b",
            "78ee38bbbbcd40449505abd1db77294d",
            "6e600e61b73a405c8ccac1b7bf546933",
            "162e9369f3be4392a14516b7e42572c4",
            "421ca9dcc5e745e49f278916e5e71579",
            "bda0dd83ee0c42fb8c7b7cecea118a12",
            "69468474be0940b99b466fa5a3dd79e5",
            "72c647dfafbc44779044a178c9e257e7",
            "abd5b52ba6504b1e8e690b7fe1056f08",
            "329231573d7b4357a3ce123bfe740283",
            "c86d2afedf72483dbc8ca233279d7b3f",
            "2e384eef2502409caee9de0ccb171e2d",
            "1699e5ffefa34183b7fb357ddb5c4402",
            "a342cc36c2e844c18dc85de1fa33dda6",
            "e9a1113bbf064fc4b6689e1b2c7d80eb",
            "59aebc22349944ae8c1f2e284c80ef16",
            "8cfdd418a5094d3da9938ab5af0afa0e",
            "394fadeac8ff431da8428550ace4594a",
            "e29aa8beb1854ccdb0ab4e35abcc9357",
            "9cd03a02181a460a95daaca0d7b75ef5",
            "57d6ba743d28480eb10122c546f26efd",
            "0389b34319af40e8bd7f562bf628296f",
            "e597ae83aadf4f178953f0d4b52175da"
          ]
        },
        "id": "1kG7kuQ-IkVx",
        "outputId": "161ec983-c16f-49c5-fabf-16e7916199e4"
      },
      "outputs": [],
      "source": [
        "# Download Data\n",
        "import tensorflow_datasets as tfds\n",
        "ds_preview, info = tfds.load('cats_vs_dogs', split='train', with_info=True)"
      ]
    },
    {
      "cell_type": "markdown",
      "metadata": {
        "id": "HYonR1Idra3K"
      },
      "source": [
        "#### View Sample Data"
      ]
    },
    {
      "cell_type": "code",
      "execution_count": null,
      "metadata": {
        "colab": {
          "base_uri": "https://localhost:8080/",
          "height": 474
        },
        "id": "5F_Y7O5ZOeoU",
        "outputId": "017aeb30-c54a-49cf-ba57-cdf168ccb69c"
      },
      "outputs": [],
      "source": [
        "# View Sample data\n",
        "ds_example_viz=tfds.visualization.show_examples(ds_preview.take(5), info)\n",
        "ds_example_viz.set_size_inches(2.5, 2.5, forward=True)\n",
        "ds_example_fig = figure_to_base64str(ds_example_viz)\n"
      ]
    },
    {
      "cell_type": "markdown",
      "metadata": {
        "id": "EeASwXRdrrWT"
      },
      "source": [
        "### Train Model and Calculate Accuracy"
      ]
    },
    {
      "cell_type": "code",
      "execution_count": null,
      "metadata": {
        "id": "b6ce--QU_dnF"
      },
      "outputs": [],
      "source": [
        "def compute_accuracy(data):\n",
        "  x = np.stack(data['examples'])\n",
        "  y = np.asarray(data['labels'])\n",
        "  _, metric = model.evaluate(x, y)\n",
        "  return metric"
      ]
    },
    {
      "cell_type": "code",
      "execution_count": null,
      "metadata": {
        "colab": {
          "base_uri": "https://localhost:8080/"
        },
        "id": "a4y9dRnO_fnE",
        "outputId": "0e68b7d9-d518-498e-ed0d-4e9a557744ec"
      },
      "outputs": [],
      "source": [
        "examples = cats_vs_dogs.get_data()\n",
        "print('num validation examples:', len(examples['combined']['examples']))\n",
        "print('num cat examples:', len(examples['cat']['examples']))\n",
        "print('num dog examples:', len(examples['dog']['examples']))"
      ]
    },
    {
      "cell_type": "code",
      "execution_count": null,
      "metadata": {
        "colab": {
          "base_uri": "https://localhost:8080/"
        },
        "id": "Lmn25wRjrKj2",
        "outputId": "c3e51dd4-eabc-4260-80ec-c1808668a658"
      },
      "outputs": [],
      "source": [
        "accuracy = compute_accuracy(examples['combined'])\n",
        "cat_accuracy = compute_accuracy(examples['cat'])\n",
        "dog_accuracy = compute_accuracy(examples['dog'])"
      ]
    },
    {
      "cell_type": "markdown",
      "metadata": {
        "id": "Mw1Za-HMRIhV"
      },
      "source": [
        "# Use the Model Card Toolkit\n",
        "\n"
      ]
    },
    {
      "cell_type": "markdown",
      "metadata": {
        "id": "wKDbJ4oTT6y-"
      },
      "source": [
        "## Initialize the Model Card Toolkit"
      ]
    },
    {
      "cell_type": "code",
      "execution_count": null,
      "metadata": {
        "id": "NJ898CD_rN_e"
      },
      "outputs": [],
      "source": [
        "# https://github.com/tensorflow/model-card-toolkit/blob/master/model_card_toolkit/model_card_toolkit.py\n",
        "model_card_dir = tempfile.mkdtemp()\n",
        "toolkit = mct.ModelCardToolkit(model_card_dir)\n",
        "\n",
        "# https://github.com/tensorflow/model-card-toolkit/blob/master/model_card_toolkit/model_card.py\n",
        "model_card = toolkit.scaffold_assets()\n"
      ]
    },
    {
      "cell_type": "markdown",
      "metadata": {
        "id": "c2kQb4OlUFW_"
      },
      "source": [
        "## Annotate the model card"
      ]
    },
    {
      "cell_type": "code",
      "execution_count": null,
      "metadata": {
        "colab": {
          "base_uri": "https://localhost:8080/",
          "height": 376
        },
        "collapsed": true,
        "id": "oGDZkv0mReUA",
        "outputId": "12cd12ba-83a7-4027-e5db-1ec3b7c20403"
      },
      "outputs": [],
      "source": [
        " # Capture current environment details\n",
        "\n",
        "ip = gethostbyname(gethostname()) # 172.28.0.12\n",
        "fileId = get(f\"http://{ip}:9000/api/sessions\").json()[0][\"path\"].split(\"=\")[1]\n",
        "current_notebook_path=\"https://colab.research.google.com/drive/\"+fileId+\"?usp=sharing\"\n",
        "\n",
        "# Model Details\n",
        "model_card.model_details.name = ''#'cat_vs_dog_model'\n",
        "model_card.model_details.overview = (\n",
        "    'This model distinguishes cat and dog images. It uses the MobileNetV2 '\n",
        "    'architecture(https://arxiv.org/abs/1801.04381) and is trained on the '\n",
        "    'Cats vs Dogs dataset available in tensor flow dataset. This model performed with high accuracy on both Cat and Dog images.'\n",
        ")\n",
        "model_card.model_details.documentation =('https://github.com/tensorflow/model-card-toolkit/blob/master/model_card_toolkit/documentation/examples/Standalone_Model_Card_Toolkit_Demo.ipynb')\n",
        "\n",
        "model_card.model_details.owners = [\n",
        "  mct.Owner(name='Model Cards Team', contact='model-cards@google.com')\n",
        "]\n",
        "model_card.model_details.version = mct.Version(name='v1.0', date='08/28/2020')\n",
        "model_card.model_details.references = [\n",
        "    mct.Reference(reference='https://www.tensorflow.org/guide/keras/transfer_learning'),\n",
        "    mct.Reference(reference='https://arxiv.org/abs/1801.04381'),\n",
        "]\n",
        "model_card.model_details.licenses = [mct.License(identifier='Apache-2.0')]\n",
        "model_card.model_details.citations = [mct.Citation(citation='https://github.com/tensorflow/model-card-toolkit/blob/master/model_card_toolkit/documentation/examples/Standalone_Model_Card_Toolkit_Demo.ipynb')]\n",
        "model_card.model_details.path = ('https://github.com/tensorflow/model-card-toolkit/blob/master/model_card_toolkit/documentation/examples/Standalone_Model_Card_Toolkit_Demo.ipynb')\n",
        "\n",
        "# Considerations\n",
        "model_card.considerations.use_cases = [\n",
        "    mct.UseCase(description='This model classifies images of cats and dogs.')\n",
        "]\n",
        "model_card.considerations.limitations = [\n",
        "    mct.Limitation(description='This model is not able to classify images of other classes.')\n",
        "]\n",
        "model_card.considerations.ethical_considerations = [mct.Risk(\n",
        "    name=\n",
        "        'While distinguishing between cats and dogs is generally agreed to be '\n",
        "        'a benign application of machine learning, harmful results can occur '\n",
        "        'when the model attempts to classify images that don’t contain cats or '\n",
        "        'dogs.',\n",
        "    mitigation_strategy=\n",
        "        'Avoid application on non-dog and non-cat images.'\n",
        ")]\n",
        "\n",
        "# Validation Set Size Bar Chart\n",
        "\n",
        "fig, ax = plt.subplots(figsize=(1, 1))\n",
        "width = 0.4\n",
        "rects0 = ax.bar(0, len(examples['combined']['examples']), width, label='Overall')\n",
        "rects1 = ax.bar(1, len(examples['cat']['examples']), width, label='Cat')\n",
        "rects2 = ax.bar(2, len(examples['dog']['examples']), width, label='Dog')\n",
        "ax.set_xticks(np.arange(3))\n",
        "ax.set_xticklabels(['Overall', 'Cat', 'Dog'] ,fontdict={'fontsize': 8})\n",
        "ax.set_ylabel('Validation Set Size',fontdict={'fontsize': 6})\n",
        "ax.set_xlabel('Slices',fontdict={'fontsize': 6})\n",
        "#ax.set_title('Validation Set Size for Slices',fontdict={'fontsize': 8})\n",
        "\n",
        "validation_set_size_barchart = figure_to_base64str(fig)\n",
        "\n",
        "# Pie chart, where the slices will be ordered and plotted counter-clockwise:\n",
        "labels = 'Cats', 'Dogs'\n",
        "sizes = [len(examples['cat']['examples']), len(examples['dog']['examples'])]\n",
        "\n",
        "fig1, ax1 = plt.subplots(figsize=(1, 1))\n",
        "ax1.pie(sizes, labels=labels, autopct='%2.0f%%',\n",
        "        shadow=True, startangle=90)\n",
        "ax1.axis('equal')  # Equal aspect ratio ensures that pie is drawn as a circle.\n",
        "\n",
        "\n",
        "cat_vs_dog_piechart = figure_to_base64str(fig1)\n",
        "\n",
        "# Acuracy Bar Chart\n",
        "\n",
        "fig, ax = plt.subplots(figsize=(1, 1))\n",
        "width = 0.4\n",
        "rects0 = ax.bar(0, accuracy, width, label='Overall')\n",
        "rects1 = ax.bar(1, cat_accuracy, width, label='Cat')\n",
        "rects2 = ax.bar(2, dog_accuracy, width, label='Dog')\n",
        "ax.set_xticks(np.arange(3))\n",
        "ax.set_xticklabels(['Overall', 'Cat', 'Dog'] , fontdict={'fontsize': 6})\n",
        "ax.set_ylabel('Accuracy',fontdict={'fontsize': 6})\n",
        "ax.set_xlabel('Slices',fontdict={'fontsize': 6})\n",
        "#ax.set_title('Accuracy on Slices',fontdict={'fontsize': 8})\n",
        "accuracy_barchart = figure_to_base64str(fig)\n",
        "\n",
        "model_card.model_parameters.data.clear()\n",
        "\n",
        "model_card.model_parameters.data.append(\n",
        "    mct.Dataset(\n",
        "        name=\"Cats vs Dogs Dataset\",\n",
        "        link=\"https://paperswithcode.com/dataset/cats-vs-dogs\",\n",
        "        graphics=mct.GraphicsCollection(\n",
        "            description='Samples in the Dataset',\n",
        "            collection=[\n",
        "                mct.Graphic(name='Dataset Examples:', image=ds_example_fig),\n",
        "                mct.Graphic(name='Validation Set Size',image=validation_set_size_barchart),\n",
        "                mct.Graphic(name='Cat vs Dog distribution',image=cat_vs_dog_piechart),\n",
        "                mct.Graphic(name='Accuracy',image=accuracy_barchart),\n",
        "\n",
        "            ]\n",
        "        )\n",
        "    )\n",
        ")\n",
        "\n",
        "# Quantitative Analysis\n",
        "\n",
        "model_card.quantitative_analysis.performance_metrics = [\n",
        "  mct.PerformanceMetric(type='accuracy', value=str(accuracy)),\n",
        "  mct.PerformanceMetric(type='accuracy', value=str(cat_accuracy), slice='cat'),\n",
        "  mct.PerformanceMetric(type='accuracy', value=str(dog_accuracy), slice='Dog'),\n",
        "]\n",
        "\n",
        "model_card.quantitative_analysis.graphics.collection = [\n",
        "  mct.Graphic(name='Accuracy', image=accuracy_barchart),\n",
        "]\n",
        "\n"
      ]
    },
    {
      "cell_type": "markdown",
      "metadata": {
        "id": "cCbd_Jk2Uzqi"
      },
      "source": [
        "## Update the model card"
      ]
    },
    {
      "cell_type": "code",
      "execution_count": null,
      "metadata": {
        "id": "SvQrh40d-RMN"
      },
      "outputs": [],
      "source": [
        "toolkit.update_model_card(model_card)"
      ]
    },
    {
      "cell_type": "markdown",
      "metadata": {
        "id": "w4HBBWC9U4LJ"
      },
      "source": [
        "## Download custom html template for Dataplex\n",
        "\n"
      ]
    },
    {
      "cell_type": "code",
      "execution_count": null,
      "metadata": {
        "colab": {
          "base_uri": "https://localhost:8080/"
        },
        "id": "HFwe2tP9PT27",
        "outputId": "59daffbe-8e33-4699-8d0e-4226ed47f17a"
      },
      "outputs": [],
      "source": [
        "!wget https://raw.githubusercontent.com/mansim07/dataplex-ai-governance-demo/main/resources/mct_templates/dataplex_mct_template.html.jinja"
      ]
    },
    {
      "cell_type": "markdown",
      "metadata": {
        "id": "dTOhYFkPdWs5"
      },
      "source": [
        "## Generate HTML-based model card for Dataplex"
      ]
    },
    {
      "cell_type": "code",
      "execution_count": null,
      "metadata": {
        "colab": {
          "base_uri": "https://localhost:8080/",
          "height": 1000
        },
        "id": "CfA3XlTkQCGT",
        "outputId": "3ad48f9e-3388-4925-df8f-53f8ff84d67e"
      },
      "outputs": [],
      "source": [
        "my_custom_template_path = \"dataplex_mct_template.html.jinja\"\n",
        "html_doc=toolkit.export_format(template_path=my_custom_template_path, output_file='model_card.html')  # generate the final Model Card\n",
        "display.display(display.HTML(html_doc))"
      ]
    },
    {
      "cell_type": "markdown",
      "metadata": {
        "id": "_mISD4TORm79"
      },
      "source": [
        "# Catalog Model card in Dataplex"
      ]
    },
    {
      "cell_type": "markdown",
      "metadata": {
        "id": "KO86h6L1RIBW"
      },
      "source": [
        "### Authenticate your notebook environment(Colab only)\n",
        "Authenticate your environment on Google Colab"
      ]
    },
    {
      "cell_type": "code",
      "execution_count": null,
      "metadata": {
        "id": "fpfpcmr3VME_"
      },
      "outputs": [],
      "source": [
        "import sys\n",
        "\n",
        "if \"google.colab\" in sys.modules:\n",
        "\n",
        "    from google.colab import auth\n",
        "\n",
        "    auth.authenticate_user()"
      ]
    },
    {
      "cell_type": "markdown",
      "metadata": {
        "id": "P8K0kxB8XtR_"
      },
      "source": [
        "### Set Google Cloud project information\n",
        "Learn more about [setting up a project and a development environment](https://cloud.google.com/vertex-ai/docs/start/cloud-environment)."
      ]
    },
    {
      "cell_type": "code",
      "execution_count": null,
      "metadata": {
        "id": "SXST37ngXww_"
      },
      "outputs": [],
      "source": [
        "PROJECT_ID = \"dataplex-shared-project-1\"  # @param {type:\"string\"}\n",
        "LOCATION = \"us-central1\"  # @param {type:\"string\"}\n",
        "\n",
        "#dataplex-shared-project-1"
      ]
    },
    {
      "cell_type": "markdown",
      "metadata": {
        "id": "RbVBgSqbZDcN"
      },
      "source": [
        "### Set Dataplex resources\n",
        "\n",
        "For this demo, we will create a custom entry in Dataplex Catalog for the model and then catalog the model card generated before here and push it to the overview section.\n",
        "\n",
        "Provide a unique name for ENTRY_GROUP_ID and ENTRY_GROUP. If you want to use a pre-existing one than you can skip executing the following 2 cells."
      ]
    },
    {
      "cell_type": "code",
      "execution_count": null,
      "metadata": {
        "id": "5-wWJXhKaSgk"
      },
      "outputs": [],
      "source": [
        "ENTRY_GROUP_ID = \"ai-model\"  # @param {type:\"string\"}\n",
        "ENTRY_TYPE_ID= \"custom-ai-model-test\"  # @param {type:\"string\"}\n",
        "ENTRY_ID = \"cats-vs-dogs-model-test\"  # @param {type:\"string\"}"
      ]
    },
    {
      "cell_type": "markdown",
      "metadata": {
        "id": "DxY2BiJ8TJSv"
      },
      "source": [
        "## Create an Custom Entry. Skip this section(all 3 cells below) if you are using an existing entry"
      ]
    },
    {
      "cell_type": "markdown",
      "metadata": {
        "id": "nHP5YY_GHHnv"
      },
      "source": [
        "### Create an Custom Entry Group\n",
        "You can skip this step if an Entry Group already exists and being re-used"
      ]
    },
    {
      "cell_type": "code",
      "execution_count": null,
      "metadata": {
        "colab": {
          "base_uri": "https://localhost:8080/"
        },
        "id": "JuBeVXxbRvzJ",
        "outputId": "b822a72d-7d11-4408-839f-1d1d4ebda4d6"
      },
      "outputs": [],
      "source": [
        "from google.cloud import dataplex_v1\n",
        "\n",
        "\n",
        "client = dataplex_v1.CatalogServiceAsyncClient()\n",
        "\n",
        "# Initialize request argument(s)\n",
        "request_ceg = dataplex_v1.CreateEntryGroupRequest(\n",
        "parent=\"projects/\" + PROJECT_ID+ \"/locations/\" + LOCATION,\n",
        "entry_group_id=ENTRY_GROUP_ID,\n",
        ")\n",
        "\n",
        "# Make the request\n",
        "\n",
        "operation_ceg = client.create_entry_group(request=request_ceg)\n",
        "print(\"Waiting for operation to complete...\")\n",
        "response=\"\"\n",
        "\n",
        "try:\n",
        "  response = (await operation_ceg).result()\n",
        "except Exception as e:\n",
        "  if \"already exists\" in str(e):\n",
        "    print(\"Entry Group already exists.\")\n",
        "  else:\n",
        "    print(\"Encountered an error:\", e)\n",
        "# Handle the response\n",
        "print(response)\n",
        "\n"
      ]
    },
    {
      "cell_type": "markdown",
      "metadata": {
        "id": "N5SWrtuvpZwv"
      },
      "source": [
        "### Create an Custom Entry Type\n",
        "\n",
        "You can skip this step if an Entry Type already exists and being re-used"
      ]
    },
    {
      "cell_type": "code",
      "execution_count": null,
      "metadata": {
        "colab": {
          "base_uri": "https://localhost:8080/"
        },
        "id": "xWml4pwKQ1qF",
        "outputId": "65f737fb-8842-470e-f4de-f384d730486a"
      },
      "outputs": [],
      "source": [
        "from google.cloud import dataplex_v1\n",
        "\n",
        "\n",
        "client = dataplex_v1.CatalogServiceAsyncClient()\n",
        "\n",
        "    # Initialize request argument(s)\n",
        "request_cet = dataplex_v1.CreateEntryTypeRequest(\n",
        "        parent=\"projects/\" + PROJECT_ID + \"/locations/\" + LOCATION,\n",
        "        entry_type_id=ENTRY_TYPE_ID,\n",
        "    )\n",
        "\n",
        "    # Make the request\n",
        "operation = client.create_entry_type(request=request_cet)\n",
        "\n",
        "print(\"Waiting for operation to complete...\")\n",
        "\n",
        "response=\"\"\n",
        "\n",
        "try:\n",
        "  response = (await operation).result()\n",
        "except Exception as e:\n",
        "  if \"already exists\" in str(e):\n",
        "    print(\"Entry Group already exists.\")\n",
        "  else:\n",
        "    print(\"Encountered an error:\", e)\n",
        "print(response)\n"
      ]
    },
    {
      "cell_type": "markdown",
      "metadata": {
        "id": "l7Ge_habTuI1"
      },
      "source": []
    },
    {
      "cell_type": "markdown",
      "metadata": {
        "id": "ekKbYq74mCn_"
      },
      "source": [
        "### Create an Entry Using Dataplex API\n",
        "\n",
        "You an skip this step if an entry already exists"
      ]
    },
    {
      "cell_type": "code",
      "execution_count": null,
      "metadata": {
        "colab": {
          "base_uri": "https://localhost:8080/"
        },
        "collapsed": true,
        "id": "cY4U88nYl_BI",
        "outputId": "c3b82ba8-9407-4b43-86d6-58d0aca00cdb"
      },
      "outputs": [],
      "source": [
        "# Create a client\n",
        "client = dataplex_v1.CatalogServiceAsyncClient()\n",
        "\n",
        "# Initialize request argument(s)\n",
        "entry = dataplex_v1.Entry()\n",
        "entry.entry_type =\"projects/\" + PROJECT_ID + \"/locations/\" + LOCATION + \"/entryTypes/\" + ENTRY_TYPE_ID\n",
        "entry_source=dataplex_v1.EntrySource()\n",
        "entry_source.system=\"COLAB NOTEBOOKS\"\n",
        "entry_source.platform=\"Local\"\n",
        "entry_source.display_name=model_card.model_details.name\n",
        "\n",
        "entry_source.description=\"This custom catalog entry represents a custom ai model used for Model Card Demo. [Colab Notebooks](\" + current_notebook_path+ \")\"\n",
        "\n",
        "#entry.fully_qualified_name=\"colab_notebooks:model:dataplex-shared-project-1.us-central1.642722820551333128.1\"\n",
        "entry.entry_source=entry_source\n",
        "\n",
        "request = dataplex_v1.CreateEntryRequest(\n",
        "        parent= \"projects/\" + PROJECT_ID+ \"/locations/\" + LOCATION +\"/entryGroups/\" + ENTRY_GROUP_ID,\n",
        "        entry_id=ENTRY_ID,\n",
        "        entry=entry,\n",
        ")\n",
        "\n",
        "response=\"\"\n",
        "try:\n",
        "  # Make the request\n",
        "  response = await client.create_entry(request=request)\n",
        "except Exception as e:\n",
        "  if \"already exists\" in str(e):\n",
        "    print(\"Entry  already exists.\")\n",
        "  else:\n",
        "    print(\"Encountered an error:\", e)\n",
        "# Handle the response\n",
        "print(response)"
      ]
    },
    {
      "cell_type": "markdown",
      "metadata": {
        "id": "rnuu7K71KuV1"
      },
      "source": [
        "## Open Cloud Console to view the Entry"
      ]
    },
    {
      "cell_type": "code",
      "execution_count": null,
      "metadata": {
        "colab": {
          "base_uri": "https://localhost:8080/"
        },
        "id": "ErzoeqvcKuV2",
        "outputId": "f12e96ec-cb18-4996-fc64-d0f3315f0415"
      },
      "outputs": [],
      "source": [
        "ui_link= \"https://console.cloud.google.com//dataplex/dp-entries/projects/\" + PROJECT_ID + \"/locations/\" + LOCATION + \"/entryGroups/\" + ENTRY_GROUP_ID + \"/entries/\" + ENTRY_ID\n",
        "\n",
        "print(\"click on the below link to open it in UI\")\n",
        "print(ui_link)\n",
        "\n"
      ]
    },
    {
      "cell_type": "markdown",
      "metadata": {
        "id": "HJ_H-vNU_2eY"
      },
      "source": [
        "## Push the Model Card to an  Business Overview Aspect"
      ]
    },
    {
      "cell_type": "code",
      "execution_count": null,
      "metadata": {
        "colab": {
          "base_uri": "https://localhost:8080/"
        },
        "id": "dJFjYNl4g36y",
        "outputId": "0d3cccac-4ff9-4e64-ca75-b9f9b2440b2c"
      },
      "outputs": [],
      "source": [
        "# Attach aspect to an entry\n",
        "\n",
        "# prompt: code to attach aspect to an entry dataplex\n",
        "from google.protobuf import field_mask_pb2\n",
        "from google.protobuf import json_format\n",
        "\n",
        "\n",
        "# Create a client\n",
        "client = dataplex_v1.CatalogServiceAsyncClient()\n",
        "\n",
        "# Initialize request argument(s)\n",
        "aspect = dataplex_v1.Aspect()\n",
        "aspect.aspect_type = \"projects/dataplex-types/locations/global/aspectTypes/overview\"\n",
        "\n",
        "overview_data = {\n",
        "    \"content\": html_doc,  # Model Card HTML Card\n",
        "    # Add other fields as needed\n",
        "}\n",
        "\n",
        "aspect_map = {}\n",
        "key_direct = f\"dataplex-types.global.overview\"\n",
        "aspect.data=overview_data\n",
        "\n",
        "aspect_map[key_direct] =  aspect\n",
        "\n",
        "request = dataplex_v1.UpdateEntryRequest(\n",
        "    entry=dataplex_v1.Entry(\n",
        "        name= \"projects/\" + PROJECT_ID + \"/locations/\" + LOCATION + \"/entryGroups/\" + ENTRY_GROUP_ID + \"/entries/\" + ENTRY_ID,\n",
        "        aspects=aspect_map\n",
        "    ),\n",
        "    update_mask=field_mask_pb2.FieldMask(\n",
        "        paths=[\"aspects\"]\n",
        "    ),\n",
        ")\n",
        "\n",
        "# Make the request\n",
        "response = await client.update_entry(request=request)\n",
        "\n",
        "# Handle the response\n",
        "print(response)\n"
      ]
    },
    {
      "cell_type": "markdown",
      "metadata": {
        "id": "ATlr75_59dRE"
      },
      "source": []
    },
    {
      "cell_type": "markdown",
      "metadata": {
        "id": "F4WyW3v_rK48"
      },
      "source": [
        "## Open Cloud Console to re-view the Entry"
      ]
    },
    {
      "cell_type": "code",
      "execution_count": null,
      "metadata": {
        "colab": {
          "base_uri": "https://localhost:8080/"
        },
        "id": "tBOcX-_d9ZaD",
        "outputId": "66d08c79-204e-43ed-b7ee-853a97fa17ec"
      },
      "outputs": [],
      "source": [
        "ui_link= \"https://console.cloud.google.com//dataplex/dp-entries/projects/\" + PROJECT_ID + \"/locations/\" + LOCATION + \"/entryGroups/\" + ENTRY_GROUP_ID + \"/entries/\" + ENTRY_ID\n",
        "\n",
        "print(\"click on the below link to open it in UI\")\n",
        "print(ui_link)"
      ]
    }
  ],
  "metadata": {
    "colab": {
      "collapsed_sections": [
        "JgY2XpcuNDcB",
        "KO86h6L1RIBW",
        "P8K0kxB8XtR_",
        "RbVBgSqbZDcN",
        "DxY2BiJ8TJSv",
        "N5SWrtuvpZwv",
        "ekKbYq74mCn_"
      ],
      "provenance": []
    },
    "kernelspec": {
      "display_name": "Python 3",
      "name": "python3"
    },
    "language_info": {
      "name": "python"
    },
    "widgets": {
      "application/vnd.jupyter.widget-state+json": {
        "023515f6b18447e4898876729fe8532e": {
          "model_module": "@jupyter-widgets/controls",
          "model_module_version": "1.5.0",
          "model_name": "HBoxModel",
          "state": {
            "_dom_classes": [],
            "_model_module": "@jupyter-widgets/controls",
            "_model_module_version": "1.5.0",
            "_model_name": "HBoxModel",
            "_view_count": null,
            "_view_module": "@jupyter-widgets/controls",
            "_view_module_version": "1.5.0",
            "_view_name": "HBoxView",
            "box_style": "",
            "children": [
              "IPY_MODEL_6d6caa2ea0124f7e90522ad89674342d",
              "IPY_MODEL_645bb616c74342c2a590c27af5c4ac0a",
              "IPY_MODEL_cdc80c3fe9c14a13a653e21590e1d0ad"
            ],
            "layout": "IPY_MODEL_033217c1d2cb4fb58431b39c404b339d"
          }
        },
        "033217c1d2cb4fb58431b39c404b339d": {
          "model_module": "@jupyter-widgets/base",
          "model_module_version": "1.2.0",
          "model_name": "LayoutModel",
          "state": {
            "_model_module": "@jupyter-widgets/base",
            "_model_module_version": "1.2.0",
            "_model_name": "LayoutModel",
            "_view_count": null,
            "_view_module": "@jupyter-widgets/base",
            "_view_module_version": "1.2.0",
            "_view_name": "LayoutView",
            "align_content": null,
            "align_items": null,
            "align_self": null,
            "border": null,
            "bottom": null,
            "display": null,
            "flex": null,
            "flex_flow": null,
            "grid_area": null,
            "grid_auto_columns": null,
            "grid_auto_flow": null,
            "grid_auto_rows": null,
            "grid_column": null,
            "grid_gap": null,
            "grid_row": null,
            "grid_template_areas": null,
            "grid_template_columns": null,
            "grid_template_rows": null,
            "height": null,
            "justify_content": null,
            "justify_items": null,
            "left": null,
            "margin": null,
            "max_height": null,
            "max_width": null,
            "min_height": null,
            "min_width": null,
            "object_fit": null,
            "object_position": null,
            "order": null,
            "overflow": null,
            "overflow_x": null,
            "overflow_y": null,
            "padding": null,
            "right": null,
            "top": null,
            "visibility": null,
            "width": null
          }
        },
        "0389b34319af40e8bd7f562bf628296f": {
          "model_module": "@jupyter-widgets/base",
          "model_module_version": "1.2.0",
          "model_name": "LayoutModel",
          "state": {
            "_model_module": "@jupyter-widgets/base",
            "_model_module_version": "1.2.0",
            "_model_name": "LayoutModel",
            "_view_count": null,
            "_view_module": "@jupyter-widgets/base",
            "_view_module_version": "1.2.0",
            "_view_name": "LayoutView",
            "align_content": null,
            "align_items": null,
            "align_self": null,
            "border": null,
            "bottom": null,
            "display": null,
            "flex": null,
            "flex_flow": null,
            "grid_area": null,
            "grid_auto_columns": null,
            "grid_auto_flow": null,
            "grid_auto_rows": null,
            "grid_column": null,
            "grid_gap": null,
            "grid_row": null,
            "grid_template_areas": null,
            "grid_template_columns": null,
            "grid_template_rows": null,
            "height": null,
            "justify_content": null,
            "justify_items": null,
            "left": null,
            "margin": null,
            "max_height": null,
            "max_width": null,
            "min_height": null,
            "min_width": null,
            "object_fit": null,
            "object_position": null,
            "order": null,
            "overflow": null,
            "overflow_x": null,
            "overflow_y": null,
            "padding": null,
            "right": null,
            "top": null,
            "visibility": null,
            "width": null
          }
        },
        "0f2ea6dfd5ff4927ad1837683fce3de7": {
          "model_module": "@jupyter-widgets/controls",
          "model_module_version": "1.5.0",
          "model_name": "ProgressStyleModel",
          "state": {
            "_model_module": "@jupyter-widgets/controls",
            "_model_module_version": "1.5.0",
            "_model_name": "ProgressStyleModel",
            "_view_count": null,
            "_view_module": "@jupyter-widgets/base",
            "_view_module_version": "1.2.0",
            "_view_name": "StyleView",
            "bar_color": null,
            "description_width": ""
          }
        },
        "162e9369f3be4392a14516b7e42572c4": {
          "model_module": "@jupyter-widgets/controls",
          "model_module_version": "1.5.0",
          "model_name": "FloatProgressModel",
          "state": {
            "_dom_classes": [],
            "_model_module": "@jupyter-widgets/controls",
            "_model_module_version": "1.5.0",
            "_model_name": "FloatProgressModel",
            "_view_count": null,
            "_view_module": "@jupyter-widgets/controls",
            "_view_module_version": "1.5.0",
            "_view_name": "ProgressView",
            "bar_style": "",
            "description": "",
            "description_tooltip": null,
            "layout": "IPY_MODEL_abd5b52ba6504b1e8e690b7fe1056f08",
            "max": 23262,
            "min": 0,
            "orientation": "horizontal",
            "style": "IPY_MODEL_329231573d7b4357a3ce123bfe740283",
            "value": 23262
          }
        },
        "1699e5ffefa34183b7fb357ddb5c4402": {
          "model_module": "@jupyter-widgets/controls",
          "model_module_version": "1.5.0",
          "model_name": "HBoxModel",
          "state": {
            "_dom_classes": [],
            "_model_module": "@jupyter-widgets/controls",
            "_model_module_version": "1.5.0",
            "_model_name": "HBoxModel",
            "_view_count": null,
            "_view_module": "@jupyter-widgets/controls",
            "_view_module_version": "1.5.0",
            "_view_name": "HBoxView",
            "box_style": "",
            "children": [
              "IPY_MODEL_a342cc36c2e844c18dc85de1fa33dda6",
              "IPY_MODEL_e9a1113bbf064fc4b6689e1b2c7d80eb",
              "IPY_MODEL_59aebc22349944ae8c1f2e284c80ef16"
            ],
            "layout": "IPY_MODEL_8cfdd418a5094d3da9938ab5af0afa0e"
          }
        },
        "226f676043c64ec4a45c68f1d5af7c99": {
          "model_module": "@jupyter-widgets/base",
          "model_module_version": "1.2.0",
          "model_name": "LayoutModel",
          "state": {
            "_model_module": "@jupyter-widgets/base",
            "_model_module_version": "1.2.0",
            "_model_name": "LayoutModel",
            "_view_count": null,
            "_view_module": "@jupyter-widgets/base",
            "_view_module_version": "1.2.0",
            "_view_name": "LayoutView",
            "align_content": null,
            "align_items": null,
            "align_self": null,
            "border": null,
            "bottom": null,
            "display": null,
            "flex": null,
            "flex_flow": null,
            "grid_area": null,
            "grid_auto_columns": null,
            "grid_auto_flow": null,
            "grid_auto_rows": null,
            "grid_column": null,
            "grid_gap": null,
            "grid_row": null,
            "grid_template_areas": null,
            "grid_template_columns": null,
            "grid_template_rows": null,
            "height": null,
            "justify_content": null,
            "justify_items": null,
            "left": null,
            "margin": null,
            "max_height": null,
            "max_width": null,
            "min_height": null,
            "min_width": null,
            "object_fit": null,
            "object_position": null,
            "order": null,
            "overflow": null,
            "overflow_x": null,
            "overflow_y": null,
            "padding": null,
            "right": null,
            "top": null,
            "visibility": null,
            "width": null
          }
        },
        "28fc70ed13b543ed8dd55eaf5d6cc1a7": {
          "model_module": "@jupyter-widgets/controls",
          "model_module_version": "1.5.0",
          "model_name": "HTMLModel",
          "state": {
            "_dom_classes": [],
            "_model_module": "@jupyter-widgets/controls",
            "_model_module_version": "1.5.0",
            "_model_name": "HTMLModel",
            "_view_count": null,
            "_view_module": "@jupyter-widgets/controls",
            "_view_module_version": "1.5.0",
            "_view_name": "HTMLView",
            "description": "",
            "description_tooltip": null,
            "layout": "IPY_MODEL_cfca48a0bb3c42b08dad8a9bb10578ab",
            "placeholder": "​",
            "style": "IPY_MODEL_409397ffc0684f51bbb4716e43f9aa25",
            "value": " 1/1 [00:17&lt;00:00, 17.37s/ url]"
          }
        },
        "2e384eef2502409caee9de0ccb171e2d": {
          "model_module": "@jupyter-widgets/controls",
          "model_module_version": "1.5.0",
          "model_name": "DescriptionStyleModel",
          "state": {
            "_model_module": "@jupyter-widgets/controls",
            "_model_module_version": "1.5.0",
            "_model_name": "DescriptionStyleModel",
            "_view_count": null,
            "_view_module": "@jupyter-widgets/base",
            "_view_module_version": "1.2.0",
            "_view_name": "StyleView",
            "description_width": ""
          }
        },
        "329231573d7b4357a3ce123bfe740283": {
          "model_module": "@jupyter-widgets/controls",
          "model_module_version": "1.5.0",
          "model_name": "ProgressStyleModel",
          "state": {
            "_model_module": "@jupyter-widgets/controls",
            "_model_module_version": "1.5.0",
            "_model_name": "ProgressStyleModel",
            "_view_count": null,
            "_view_module": "@jupyter-widgets/base",
            "_view_module_version": "1.2.0",
            "_view_name": "StyleView",
            "bar_color": null,
            "description_width": ""
          }
        },
        "394fadeac8ff431da8428550ace4594a": {
          "model_module": "@jupyter-widgets/base",
          "model_module_version": "1.2.0",
          "model_name": "LayoutModel",
          "state": {
            "_model_module": "@jupyter-widgets/base",
            "_model_module_version": "1.2.0",
            "_model_name": "LayoutModel",
            "_view_count": null,
            "_view_module": "@jupyter-widgets/base",
            "_view_module_version": "1.2.0",
            "_view_name": "LayoutView",
            "align_content": null,
            "align_items": null,
            "align_self": null,
            "border": null,
            "bottom": null,
            "display": null,
            "flex": null,
            "flex_flow": null,
            "grid_area": null,
            "grid_auto_columns": null,
            "grid_auto_flow": null,
            "grid_auto_rows": null,
            "grid_column": null,
            "grid_gap": null,
            "grid_row": null,
            "grid_template_areas": null,
            "grid_template_columns": null,
            "grid_template_rows": null,
            "height": null,
            "justify_content": null,
            "justify_items": null,
            "left": null,
            "margin": null,
            "max_height": null,
            "max_width": null,
            "min_height": null,
            "min_width": null,
            "object_fit": null,
            "object_position": null,
            "order": null,
            "overflow": null,
            "overflow_x": null,
            "overflow_y": null,
            "padding": null,
            "right": null,
            "top": null,
            "visibility": null,
            "width": null
          }
        },
        "409397ffc0684f51bbb4716e43f9aa25": {
          "model_module": "@jupyter-widgets/controls",
          "model_module_version": "1.5.0",
          "model_name": "DescriptionStyleModel",
          "state": {
            "_model_module": "@jupyter-widgets/controls",
            "_model_module_version": "1.5.0",
            "_model_name": "DescriptionStyleModel",
            "_view_count": null,
            "_view_module": "@jupyter-widgets/base",
            "_view_module_version": "1.2.0",
            "_view_name": "StyleView",
            "description_width": ""
          }
        },
        "41bbf0b158074079889f2349533b81ea": {
          "model_module": "@jupyter-widgets/controls",
          "model_module_version": "1.5.0",
          "model_name": "HBoxModel",
          "state": {
            "_dom_classes": [],
            "_model_module": "@jupyter-widgets/controls",
            "_model_module_version": "1.5.0",
            "_model_name": "HBoxModel",
            "_view_count": null,
            "_view_module": "@jupyter-widgets/controls",
            "_view_module_version": "1.5.0",
            "_view_name": "HBoxView",
            "box_style": "",
            "children": [
              "IPY_MODEL_d00d6bdec40942b8a4a508ab3f754eae",
              "IPY_MODEL_44fde7cae2c7483c93d8aaf16659bdc0",
              "IPY_MODEL_789bfa611de44e6782a7e5c9c2d6ecd8"
            ],
            "layout": "IPY_MODEL_80460595c1f441cd8046c08aa7038b35"
          }
        },
        "421ca9dcc5e745e49f278916e5e71579": {
          "model_module": "@jupyter-widgets/controls",
          "model_module_version": "1.5.0",
          "model_name": "HTMLModel",
          "state": {
            "_dom_classes": [],
            "_model_module": "@jupyter-widgets/controls",
            "_model_module_version": "1.5.0",
            "_model_name": "HTMLModel",
            "_view_count": null,
            "_view_module": "@jupyter-widgets/controls",
            "_view_module_version": "1.5.0",
            "_view_name": "HTMLView",
            "description": "",
            "description_tooltip": null,
            "layout": "IPY_MODEL_c86d2afedf72483dbc8ca233279d7b3f",
            "placeholder": "​",
            "style": "IPY_MODEL_2e384eef2502409caee9de0ccb171e2d",
            "value": " 23136/23262 [01:46&lt;00:01, 123.81 examples/s]"
          }
        },
        "442fd304a9dc492ea9c7f3c92965100c": {
          "model_module": "@jupyter-widgets/controls",
          "model_module_version": "1.5.0",
          "model_name": "DescriptionStyleModel",
          "state": {
            "_model_module": "@jupyter-widgets/controls",
            "_model_module_version": "1.5.0",
            "_model_name": "DescriptionStyleModel",
            "_view_count": null,
            "_view_module": "@jupyter-widgets/base",
            "_view_module_version": "1.2.0",
            "_view_name": "StyleView",
            "description_width": ""
          }
        },
        "44fde7cae2c7483c93d8aaf16659bdc0": {
          "model_module": "@jupyter-widgets/controls",
          "model_module_version": "1.5.0",
          "model_name": "FloatProgressModel",
          "state": {
            "_dom_classes": [],
            "_model_module": "@jupyter-widgets/controls",
            "_model_module_version": "1.5.0",
            "_model_name": "FloatProgressModel",
            "_view_count": null,
            "_view_module": "@jupyter-widgets/controls",
            "_view_module_version": "1.5.0",
            "_view_name": "ProgressView",
            "bar_style": "",
            "description": "",
            "description_tooltip": null,
            "layout": "IPY_MODEL_56e89052e57b4247b427e4be73d5bd19",
            "max": 1,
            "min": 0,
            "orientation": "horizontal",
            "style": "IPY_MODEL_e4765afbce064d3ba78154749c58e9b3",
            "value": 1
          }
        },
        "5076b324cef940a98cef370c28abf535": {
          "model_module": "@jupyter-widgets/base",
          "model_module_version": "1.2.0",
          "model_name": "LayoutModel",
          "state": {
            "_model_module": "@jupyter-widgets/base",
            "_model_module_version": "1.2.0",
            "_model_name": "LayoutModel",
            "_view_count": null,
            "_view_module": "@jupyter-widgets/base",
            "_view_module_version": "1.2.0",
            "_view_name": "LayoutView",
            "align_content": null,
            "align_items": null,
            "align_self": null,
            "border": null,
            "bottom": null,
            "display": null,
            "flex": null,
            "flex_flow": null,
            "grid_area": null,
            "grid_auto_columns": null,
            "grid_auto_flow": null,
            "grid_auto_rows": null,
            "grid_column": null,
            "grid_gap": null,
            "grid_row": null,
            "grid_template_areas": null,
            "grid_template_columns": null,
            "grid_template_rows": null,
            "height": null,
            "justify_content": null,
            "justify_items": null,
            "left": null,
            "margin": null,
            "max_height": null,
            "max_width": null,
            "min_height": null,
            "min_width": null,
            "object_fit": null,
            "object_position": null,
            "order": null,
            "overflow": null,
            "overflow_x": null,
            "overflow_y": null,
            "padding": null,
            "right": null,
            "top": null,
            "visibility": null,
            "width": null
          }
        },
        "56e89052e57b4247b427e4be73d5bd19": {
          "model_module": "@jupyter-widgets/base",
          "model_module_version": "1.2.0",
          "model_name": "LayoutModel",
          "state": {
            "_model_module": "@jupyter-widgets/base",
            "_model_module_version": "1.2.0",
            "_model_name": "LayoutModel",
            "_view_count": null,
            "_view_module": "@jupyter-widgets/base",
            "_view_module_version": "1.2.0",
            "_view_name": "LayoutView",
            "align_content": null,
            "align_items": null,
            "align_self": null,
            "border": null,
            "bottom": null,
            "display": null,
            "flex": null,
            "flex_flow": null,
            "grid_area": null,
            "grid_auto_columns": null,
            "grid_auto_flow": null,
            "grid_auto_rows": null,
            "grid_column": null,
            "grid_gap": null,
            "grid_row": null,
            "grid_template_areas": null,
            "grid_template_columns": null,
            "grid_template_rows": null,
            "height": null,
            "justify_content": null,
            "justify_items": null,
            "left": null,
            "margin": null,
            "max_height": null,
            "max_width": null,
            "min_height": null,
            "min_width": null,
            "object_fit": null,
            "object_position": null,
            "order": null,
            "overflow": null,
            "overflow_x": null,
            "overflow_y": null,
            "padding": null,
            "right": null,
            "top": null,
            "visibility": null,
            "width": null
          }
        },
        "57d6ba743d28480eb10122c546f26efd": {
          "model_module": "@jupyter-widgets/controls",
          "model_module_version": "1.5.0",
          "model_name": "ProgressStyleModel",
          "state": {
            "_model_module": "@jupyter-widgets/controls",
            "_model_module_version": "1.5.0",
            "_model_name": "ProgressStyleModel",
            "_view_count": null,
            "_view_module": "@jupyter-widgets/base",
            "_view_module_version": "1.2.0",
            "_view_name": "StyleView",
            "bar_color": null,
            "description_width": ""
          }
        },
        "57e104e2efa740d2995a1eaea0188557": {
          "model_module": "@jupyter-widgets/base",
          "model_module_version": "1.2.0",
          "model_name": "LayoutModel",
          "state": {
            "_model_module": "@jupyter-widgets/base",
            "_model_module_version": "1.2.0",
            "_model_name": "LayoutModel",
            "_view_count": null,
            "_view_module": "@jupyter-widgets/base",
            "_view_module_version": "1.2.0",
            "_view_name": "LayoutView",
            "align_content": null,
            "align_items": null,
            "align_self": null,
            "border": null,
            "bottom": null,
            "display": null,
            "flex": null,
            "flex_flow": null,
            "grid_area": null,
            "grid_auto_columns": null,
            "grid_auto_flow": null,
            "grid_auto_rows": null,
            "grid_column": null,
            "grid_gap": null,
            "grid_row": null,
            "grid_template_areas": null,
            "grid_template_columns": null,
            "grid_template_rows": null,
            "height": null,
            "justify_content": null,
            "justify_items": null,
            "left": null,
            "margin": null,
            "max_height": null,
            "max_width": null,
            "min_height": null,
            "min_width": null,
            "object_fit": null,
            "object_position": null,
            "order": null,
            "overflow": null,
            "overflow_x": null,
            "overflow_y": null,
            "padding": null,
            "right": null,
            "top": null,
            "visibility": null,
            "width": "20px"
          }
        },
        "58988c6ec9054ee0af2bf1d73d9ad722": {
          "model_module": "@jupyter-widgets/controls",
          "model_module_version": "1.5.0",
          "model_name": "HTMLModel",
          "state": {
            "_dom_classes": [],
            "_model_module": "@jupyter-widgets/controls",
            "_model_module_version": "1.5.0",
            "_model_name": "HTMLModel",
            "_view_count": null,
            "_view_module": "@jupyter-widgets/controls",
            "_view_module_version": "1.5.0",
            "_view_name": "HTMLView",
            "description": "",
            "description_tooltip": null,
            "layout": "IPY_MODEL_a8c52025ed8c4e1fb0cae859a1737337",
            "placeholder": "​",
            "style": "IPY_MODEL_442fd304a9dc492ea9c7f3c92965100c",
            "value": "Dl Completed...: 100%"
          }
        },
        "59aebc22349944ae8c1f2e284c80ef16": {
          "model_module": "@jupyter-widgets/controls",
          "model_module_version": "1.5.0",
          "model_name": "HTMLModel",
          "state": {
            "_dom_classes": [],
            "_model_module": "@jupyter-widgets/controls",
            "_model_module_version": "1.5.0",
            "_model_name": "HTMLModel",
            "_view_count": null,
            "_view_module": "@jupyter-widgets/controls",
            "_view_module_version": "1.5.0",
            "_view_name": "HTMLView",
            "description": "",
            "description_tooltip": null,
            "layout": "IPY_MODEL_0389b34319af40e8bd7f562bf628296f",
            "placeholder": "​",
            "style": "IPY_MODEL_e597ae83aadf4f178953f0d4b52175da",
            "value": " 19983/23262 [00:06&lt;00:01, 2782.14 examples/s]"
          }
        },
        "5cdc3b99433247a99edddd5942ad1207": {
          "model_module": "@jupyter-widgets/controls",
          "model_module_version": "1.5.0",
          "model_name": "DescriptionStyleModel",
          "state": {
            "_model_module": "@jupyter-widgets/controls",
            "_model_module_version": "1.5.0",
            "_model_name": "DescriptionStyleModel",
            "_view_count": null,
            "_view_module": "@jupyter-widgets/base",
            "_view_module_version": "1.2.0",
            "_view_name": "StyleView",
            "description_width": ""
          }
        },
        "645bb616c74342c2a590c27af5c4ac0a": {
          "model_module": "@jupyter-widgets/controls",
          "model_module_version": "1.5.0",
          "model_name": "FloatProgressModel",
          "state": {
            "_dom_classes": [],
            "_model_module": "@jupyter-widgets/controls",
            "_model_module_version": "1.5.0",
            "_model_name": "FloatProgressModel",
            "_view_count": null,
            "_view_module": "@jupyter-widgets/controls",
            "_view_module_version": "1.5.0",
            "_view_name": "ProgressView",
            "bar_style": "success",
            "description": "",
            "description_tooltip": null,
            "layout": "IPY_MODEL_57e104e2efa740d2995a1eaea0188557",
            "max": 1,
            "min": 0,
            "orientation": "horizontal",
            "style": "IPY_MODEL_7b7b052b1e2d485f84470e4647f2e71b",
            "value": 1
          }
        },
        "69468474be0940b99b466fa5a3dd79e5": {
          "model_module": "@jupyter-widgets/base",
          "model_module_version": "1.2.0",
          "model_name": "LayoutModel",
          "state": {
            "_model_module": "@jupyter-widgets/base",
            "_model_module_version": "1.2.0",
            "_model_name": "LayoutModel",
            "_view_count": null,
            "_view_module": "@jupyter-widgets/base",
            "_view_module_version": "1.2.0",
            "_view_name": "LayoutView",
            "align_content": null,
            "align_items": null,
            "align_self": null,
            "border": null,
            "bottom": null,
            "display": null,
            "flex": null,
            "flex_flow": null,
            "grid_area": null,
            "grid_auto_columns": null,
            "grid_auto_flow": null,
            "grid_auto_rows": null,
            "grid_column": null,
            "grid_gap": null,
            "grid_row": null,
            "grid_template_areas": null,
            "grid_template_columns": null,
            "grid_template_rows": null,
            "height": null,
            "justify_content": null,
            "justify_items": null,
            "left": null,
            "margin": null,
            "max_height": null,
            "max_width": null,
            "min_height": null,
            "min_width": null,
            "object_fit": null,
            "object_position": null,
            "order": null,
            "overflow": null,
            "overflow_x": null,
            "overflow_y": null,
            "padding": null,
            "right": null,
            "top": null,
            "visibility": null,
            "width": null
          }
        },
        "6d6caa2ea0124f7e90522ad89674342d": {
          "model_module": "@jupyter-widgets/controls",
          "model_module_version": "1.5.0",
          "model_name": "HTMLModel",
          "state": {
            "_dom_classes": [],
            "_model_module": "@jupyter-widgets/controls",
            "_model_module_version": "1.5.0",
            "_model_name": "HTMLModel",
            "_view_count": null,
            "_view_module": "@jupyter-widgets/controls",
            "_view_module_version": "1.5.0",
            "_view_name": "HTMLView",
            "description": "",
            "description_tooltip": null,
            "layout": "IPY_MODEL_226f676043c64ec4a45c68f1d5af7c99",
            "placeholder": "​",
            "style": "IPY_MODEL_5cdc3b99433247a99edddd5942ad1207",
            "value": "Dl Size...: 100%"
          }
        },
        "6e600e61b73a405c8ccac1b7bf546933": {
          "model_module": "@jupyter-widgets/controls",
          "model_module_version": "1.5.0",
          "model_name": "HTMLModel",
          "state": {
            "_dom_classes": [],
            "_model_module": "@jupyter-widgets/controls",
            "_model_module_version": "1.5.0",
            "_model_name": "HTMLModel",
            "_view_count": null,
            "_view_module": "@jupyter-widgets/controls",
            "_view_module_version": "1.5.0",
            "_view_name": "HTMLView",
            "description": "",
            "description_tooltip": null,
            "layout": "IPY_MODEL_69468474be0940b99b466fa5a3dd79e5",
            "placeholder": "​",
            "style": "IPY_MODEL_72c647dfafbc44779044a178c9e257e7",
            "value": "Generating train examples...:  99%"
          }
        },
        "72c647dfafbc44779044a178c9e257e7": {
          "model_module": "@jupyter-widgets/controls",
          "model_module_version": "1.5.0",
          "model_name": "DescriptionStyleModel",
          "state": {
            "_model_module": "@jupyter-widgets/controls",
            "_model_module_version": "1.5.0",
            "_model_name": "DescriptionStyleModel",
            "_view_count": null,
            "_view_module": "@jupyter-widgets/base",
            "_view_module_version": "1.2.0",
            "_view_name": "StyleView",
            "description_width": ""
          }
        },
        "789bfa611de44e6782a7e5c9c2d6ecd8": {
          "model_module": "@jupyter-widgets/controls",
          "model_module_version": "1.5.0",
          "model_name": "HTMLModel",
          "state": {
            "_dom_classes": [],
            "_model_module": "@jupyter-widgets/controls",
            "_model_module_version": "1.5.0",
            "_model_name": "HTMLModel",
            "_view_count": null,
            "_view_module": "@jupyter-widgets/controls",
            "_view_module_version": "1.5.0",
            "_view_name": "HTMLView",
            "description": "",
            "description_tooltip": null,
            "layout": "IPY_MODEL_9a8591ff37834c11a6f150ab1dd21f34",
            "placeholder": "​",
            "style": "IPY_MODEL_82f2dd07c4ca415d8ed04e0d9f35478b",
            "value": " 1/1 [01:53&lt;00:00, 113.64s/ splits]"
          }
        },
        "78ee38bbbbcd40449505abd1db77294d": {
          "model_module": "@jupyter-widgets/controls",
          "model_module_version": "1.5.0",
          "model_name": "HBoxModel",
          "state": {
            "_dom_classes": [],
            "_model_module": "@jupyter-widgets/controls",
            "_model_module_version": "1.5.0",
            "_model_name": "HBoxModel",
            "_view_count": null,
            "_view_module": "@jupyter-widgets/controls",
            "_view_module_version": "1.5.0",
            "_view_name": "HBoxView",
            "box_style": "",
            "children": [
              "IPY_MODEL_6e600e61b73a405c8ccac1b7bf546933",
              "IPY_MODEL_162e9369f3be4392a14516b7e42572c4",
              "IPY_MODEL_421ca9dcc5e745e49f278916e5e71579"
            ],
            "layout": "IPY_MODEL_bda0dd83ee0c42fb8c7b7cecea118a12"
          }
        },
        "7b7b052b1e2d485f84470e4647f2e71b": {
          "model_module": "@jupyter-widgets/controls",
          "model_module_version": "1.5.0",
          "model_name": "ProgressStyleModel",
          "state": {
            "_model_module": "@jupyter-widgets/controls",
            "_model_module_version": "1.5.0",
            "_model_name": "ProgressStyleModel",
            "_view_count": null,
            "_view_module": "@jupyter-widgets/base",
            "_view_module_version": "1.2.0",
            "_view_name": "StyleView",
            "bar_color": null,
            "description_width": ""
          }
        },
        "80460595c1f441cd8046c08aa7038b35": {
          "model_module": "@jupyter-widgets/base",
          "model_module_version": "1.2.0",
          "model_name": "LayoutModel",
          "state": {
            "_model_module": "@jupyter-widgets/base",
            "_model_module_version": "1.2.0",
            "_model_name": "LayoutModel",
            "_view_count": null,
            "_view_module": "@jupyter-widgets/base",
            "_view_module_version": "1.2.0",
            "_view_name": "LayoutView",
            "align_content": null,
            "align_items": null,
            "align_self": null,
            "border": null,
            "bottom": null,
            "display": null,
            "flex": null,
            "flex_flow": null,
            "grid_area": null,
            "grid_auto_columns": null,
            "grid_auto_flow": null,
            "grid_auto_rows": null,
            "grid_column": null,
            "grid_gap": null,
            "grid_row": null,
            "grid_template_areas": null,
            "grid_template_columns": null,
            "grid_template_rows": null,
            "height": null,
            "justify_content": null,
            "justify_items": null,
            "left": null,
            "margin": null,
            "max_height": null,
            "max_width": null,
            "min_height": null,
            "min_width": null,
            "object_fit": null,
            "object_position": null,
            "order": null,
            "overflow": null,
            "overflow_x": null,
            "overflow_y": null,
            "padding": null,
            "right": null,
            "top": null,
            "visibility": "hidden",
            "width": null
          }
        },
        "82f2dd07c4ca415d8ed04e0d9f35478b": {
          "model_module": "@jupyter-widgets/controls",
          "model_module_version": "1.5.0",
          "model_name": "DescriptionStyleModel",
          "state": {
            "_model_module": "@jupyter-widgets/controls",
            "_model_module_version": "1.5.0",
            "_model_name": "DescriptionStyleModel",
            "_view_count": null,
            "_view_module": "@jupyter-widgets/base",
            "_view_module_version": "1.2.0",
            "_view_name": "StyleView",
            "description_width": ""
          }
        },
        "8ba73a9e85d24d18aa6bd812f7543d07": {
          "model_module": "@jupyter-widgets/base",
          "model_module_version": "1.2.0",
          "model_name": "LayoutModel",
          "state": {
            "_model_module": "@jupyter-widgets/base",
            "_model_module_version": "1.2.0",
            "_model_name": "LayoutModel",
            "_view_count": null,
            "_view_module": "@jupyter-widgets/base",
            "_view_module_version": "1.2.0",
            "_view_name": "LayoutView",
            "align_content": null,
            "align_items": null,
            "align_self": null,
            "border": null,
            "bottom": null,
            "display": null,
            "flex": null,
            "flex_flow": null,
            "grid_area": null,
            "grid_auto_columns": null,
            "grid_auto_flow": null,
            "grid_auto_rows": null,
            "grid_column": null,
            "grid_gap": null,
            "grid_row": null,
            "grid_template_areas": null,
            "grid_template_columns": null,
            "grid_template_rows": null,
            "height": null,
            "justify_content": null,
            "justify_items": null,
            "left": null,
            "margin": null,
            "max_height": null,
            "max_width": null,
            "min_height": null,
            "min_width": null,
            "object_fit": null,
            "object_position": null,
            "order": null,
            "overflow": null,
            "overflow_x": null,
            "overflow_y": null,
            "padding": null,
            "right": null,
            "top": null,
            "visibility": null,
            "width": null
          }
        },
        "8cfdd418a5094d3da9938ab5af0afa0e": {
          "model_module": "@jupyter-widgets/base",
          "model_module_version": "1.2.0",
          "model_name": "LayoutModel",
          "state": {
            "_model_module": "@jupyter-widgets/base",
            "_model_module_version": "1.2.0",
            "_model_name": "LayoutModel",
            "_view_count": null,
            "_view_module": "@jupyter-widgets/base",
            "_view_module_version": "1.2.0",
            "_view_name": "LayoutView",
            "align_content": null,
            "align_items": null,
            "align_self": null,
            "border": null,
            "bottom": null,
            "display": null,
            "flex": null,
            "flex_flow": null,
            "grid_area": null,
            "grid_auto_columns": null,
            "grid_auto_flow": null,
            "grid_auto_rows": null,
            "grid_column": null,
            "grid_gap": null,
            "grid_row": null,
            "grid_template_areas": null,
            "grid_template_columns": null,
            "grid_template_rows": null,
            "height": null,
            "justify_content": null,
            "justify_items": null,
            "left": null,
            "margin": null,
            "max_height": null,
            "max_width": null,
            "min_height": null,
            "min_width": null,
            "object_fit": null,
            "object_position": null,
            "order": null,
            "overflow": null,
            "overflow_x": null,
            "overflow_y": null,
            "padding": null,
            "right": null,
            "top": null,
            "visibility": "hidden",
            "width": null
          }
        },
        "9a8591ff37834c11a6f150ab1dd21f34": {
          "model_module": "@jupyter-widgets/base",
          "model_module_version": "1.2.0",
          "model_name": "LayoutModel",
          "state": {
            "_model_module": "@jupyter-widgets/base",
            "_model_module_version": "1.2.0",
            "_model_name": "LayoutModel",
            "_view_count": null,
            "_view_module": "@jupyter-widgets/base",
            "_view_module_version": "1.2.0",
            "_view_name": "LayoutView",
            "align_content": null,
            "align_items": null,
            "align_self": null,
            "border": null,
            "bottom": null,
            "display": null,
            "flex": null,
            "flex_flow": null,
            "grid_area": null,
            "grid_auto_columns": null,
            "grid_auto_flow": null,
            "grid_auto_rows": null,
            "grid_column": null,
            "grid_gap": null,
            "grid_row": null,
            "grid_template_areas": null,
            "grid_template_columns": null,
            "grid_template_rows": null,
            "height": null,
            "justify_content": null,
            "justify_items": null,
            "left": null,
            "margin": null,
            "max_height": null,
            "max_width": null,
            "min_height": null,
            "min_width": null,
            "object_fit": null,
            "object_position": null,
            "order": null,
            "overflow": null,
            "overflow_x": null,
            "overflow_y": null,
            "padding": null,
            "right": null,
            "top": null,
            "visibility": null,
            "width": null
          }
        },
        "9cd03a02181a460a95daaca0d7b75ef5": {
          "model_module": "@jupyter-widgets/base",
          "model_module_version": "1.2.0",
          "model_name": "LayoutModel",
          "state": {
            "_model_module": "@jupyter-widgets/base",
            "_model_module_version": "1.2.0",
            "_model_name": "LayoutModel",
            "_view_count": null,
            "_view_module": "@jupyter-widgets/base",
            "_view_module_version": "1.2.0",
            "_view_name": "LayoutView",
            "align_content": null,
            "align_items": null,
            "align_self": null,
            "border": null,
            "bottom": null,
            "display": null,
            "flex": null,
            "flex_flow": null,
            "grid_area": null,
            "grid_auto_columns": null,
            "grid_auto_flow": null,
            "grid_auto_rows": null,
            "grid_column": null,
            "grid_gap": null,
            "grid_row": null,
            "grid_template_areas": null,
            "grid_template_columns": null,
            "grid_template_rows": null,
            "height": null,
            "justify_content": null,
            "justify_items": null,
            "left": null,
            "margin": null,
            "max_height": null,
            "max_width": null,
            "min_height": null,
            "min_width": null,
            "object_fit": null,
            "object_position": null,
            "order": null,
            "overflow": null,
            "overflow_x": null,
            "overflow_y": null,
            "padding": null,
            "right": null,
            "top": null,
            "visibility": null,
            "width": null
          }
        },
        "a1b56c67e5944255bc16aaa7af890b29": {
          "model_module": "@jupyter-widgets/controls",
          "model_module_version": "1.5.0",
          "model_name": "DescriptionStyleModel",
          "state": {
            "_model_module": "@jupyter-widgets/controls",
            "_model_module_version": "1.5.0",
            "_model_name": "DescriptionStyleModel",
            "_view_count": null,
            "_view_module": "@jupyter-widgets/base",
            "_view_module_version": "1.2.0",
            "_view_name": "StyleView",
            "description_width": ""
          }
        },
        "a342cc36c2e844c18dc85de1fa33dda6": {
          "model_module": "@jupyter-widgets/controls",
          "model_module_version": "1.5.0",
          "model_name": "HTMLModel",
          "state": {
            "_dom_classes": [],
            "_model_module": "@jupyter-widgets/controls",
            "_model_module_version": "1.5.0",
            "_model_name": "HTMLModel",
            "_view_count": null,
            "_view_module": "@jupyter-widgets/controls",
            "_view_module_version": "1.5.0",
            "_view_name": "HTMLView",
            "description": "",
            "description_tooltip": null,
            "layout": "IPY_MODEL_394fadeac8ff431da8428550ace4594a",
            "placeholder": "​",
            "style": "IPY_MODEL_e29aa8beb1854ccdb0ab4e35abcc9357",
            "value": "Shuffling /root/tensorflow_datasets/cats_vs_dogs/incomplete.D2LXVS_4.0.1/cats_vs_dogs-train.tfrecord*...:  86%"
          }
        },
        "a8c52025ed8c4e1fb0cae859a1737337": {
          "model_module": "@jupyter-widgets/base",
          "model_module_version": "1.2.0",
          "model_name": "LayoutModel",
          "state": {
            "_model_module": "@jupyter-widgets/base",
            "_model_module_version": "1.2.0",
            "_model_name": "LayoutModel",
            "_view_count": null,
            "_view_module": "@jupyter-widgets/base",
            "_view_module_version": "1.2.0",
            "_view_name": "LayoutView",
            "align_content": null,
            "align_items": null,
            "align_self": null,
            "border": null,
            "bottom": null,
            "display": null,
            "flex": null,
            "flex_flow": null,
            "grid_area": null,
            "grid_auto_columns": null,
            "grid_auto_flow": null,
            "grid_auto_rows": null,
            "grid_column": null,
            "grid_gap": null,
            "grid_row": null,
            "grid_template_areas": null,
            "grid_template_columns": null,
            "grid_template_rows": null,
            "height": null,
            "justify_content": null,
            "justify_items": null,
            "left": null,
            "margin": null,
            "max_height": null,
            "max_width": null,
            "min_height": null,
            "min_width": null,
            "object_fit": null,
            "object_position": null,
            "order": null,
            "overflow": null,
            "overflow_x": null,
            "overflow_y": null,
            "padding": null,
            "right": null,
            "top": null,
            "visibility": null,
            "width": null
          }
        },
        "abd5b52ba6504b1e8e690b7fe1056f08": {
          "model_module": "@jupyter-widgets/base",
          "model_module_version": "1.2.0",
          "model_name": "LayoutModel",
          "state": {
            "_model_module": "@jupyter-widgets/base",
            "_model_module_version": "1.2.0",
            "_model_name": "LayoutModel",
            "_view_count": null,
            "_view_module": "@jupyter-widgets/base",
            "_view_module_version": "1.2.0",
            "_view_name": "LayoutView",
            "align_content": null,
            "align_items": null,
            "align_self": null,
            "border": null,
            "bottom": null,
            "display": null,
            "flex": null,
            "flex_flow": null,
            "grid_area": null,
            "grid_auto_columns": null,
            "grid_auto_flow": null,
            "grid_auto_rows": null,
            "grid_column": null,
            "grid_gap": null,
            "grid_row": null,
            "grid_template_areas": null,
            "grid_template_columns": null,
            "grid_template_rows": null,
            "height": null,
            "justify_content": null,
            "justify_items": null,
            "left": null,
            "margin": null,
            "max_height": null,
            "max_width": null,
            "min_height": null,
            "min_width": null,
            "object_fit": null,
            "object_position": null,
            "order": null,
            "overflow": null,
            "overflow_x": null,
            "overflow_y": null,
            "padding": null,
            "right": null,
            "top": null,
            "visibility": null,
            "width": null
          }
        },
        "b7d341c77a0142a281165a278c2d2075": {
          "model_module": "@jupyter-widgets/controls",
          "model_module_version": "1.5.0",
          "model_name": "DescriptionStyleModel",
          "state": {
            "_model_module": "@jupyter-widgets/controls",
            "_model_module_version": "1.5.0",
            "_model_name": "DescriptionStyleModel",
            "_view_count": null,
            "_view_module": "@jupyter-widgets/base",
            "_view_module_version": "1.2.0",
            "_view_name": "StyleView",
            "description_width": ""
          }
        },
        "bda0dd83ee0c42fb8c7b7cecea118a12": {
          "model_module": "@jupyter-widgets/base",
          "model_module_version": "1.2.0",
          "model_name": "LayoutModel",
          "state": {
            "_model_module": "@jupyter-widgets/base",
            "_model_module_version": "1.2.0",
            "_model_name": "LayoutModel",
            "_view_count": null,
            "_view_module": "@jupyter-widgets/base",
            "_view_module_version": "1.2.0",
            "_view_name": "LayoutView",
            "align_content": null,
            "align_items": null,
            "align_self": null,
            "border": null,
            "bottom": null,
            "display": null,
            "flex": null,
            "flex_flow": null,
            "grid_area": null,
            "grid_auto_columns": null,
            "grid_auto_flow": null,
            "grid_auto_rows": null,
            "grid_column": null,
            "grid_gap": null,
            "grid_row": null,
            "grid_template_areas": null,
            "grid_template_columns": null,
            "grid_template_rows": null,
            "height": null,
            "justify_content": null,
            "justify_items": null,
            "left": null,
            "margin": null,
            "max_height": null,
            "max_width": null,
            "min_height": null,
            "min_width": null,
            "object_fit": null,
            "object_position": null,
            "order": null,
            "overflow": null,
            "overflow_x": null,
            "overflow_y": null,
            "padding": null,
            "right": null,
            "top": null,
            "visibility": "hidden",
            "width": null
          }
        },
        "c7e9f81db93a43c6879e55a85ce8121b": {
          "model_module": "@jupyter-widgets/base",
          "model_module_version": "1.2.0",
          "model_name": "LayoutModel",
          "state": {
            "_model_module": "@jupyter-widgets/base",
            "_model_module_version": "1.2.0",
            "_model_name": "LayoutModel",
            "_view_count": null,
            "_view_module": "@jupyter-widgets/base",
            "_view_module_version": "1.2.0",
            "_view_name": "LayoutView",
            "align_content": null,
            "align_items": null,
            "align_self": null,
            "border": null,
            "bottom": null,
            "display": null,
            "flex": null,
            "flex_flow": null,
            "grid_area": null,
            "grid_auto_columns": null,
            "grid_auto_flow": null,
            "grid_auto_rows": null,
            "grid_column": null,
            "grid_gap": null,
            "grid_row": null,
            "grid_template_areas": null,
            "grid_template_columns": null,
            "grid_template_rows": null,
            "height": null,
            "justify_content": null,
            "justify_items": null,
            "left": null,
            "margin": null,
            "max_height": null,
            "max_width": null,
            "min_height": null,
            "min_width": null,
            "object_fit": null,
            "object_position": null,
            "order": null,
            "overflow": null,
            "overflow_x": null,
            "overflow_y": null,
            "padding": null,
            "right": null,
            "top": null,
            "visibility": null,
            "width": "20px"
          }
        },
        "c86d2afedf72483dbc8ca233279d7b3f": {
          "model_module": "@jupyter-widgets/base",
          "model_module_version": "1.2.0",
          "model_name": "LayoutModel",
          "state": {
            "_model_module": "@jupyter-widgets/base",
            "_model_module_version": "1.2.0",
            "_model_name": "LayoutModel",
            "_view_count": null,
            "_view_module": "@jupyter-widgets/base",
            "_view_module_version": "1.2.0",
            "_view_name": "LayoutView",
            "align_content": null,
            "align_items": null,
            "align_self": null,
            "border": null,
            "bottom": null,
            "display": null,
            "flex": null,
            "flex_flow": null,
            "grid_area": null,
            "grid_auto_columns": null,
            "grid_auto_flow": null,
            "grid_auto_rows": null,
            "grid_column": null,
            "grid_gap": null,
            "grid_row": null,
            "grid_template_areas": null,
            "grid_template_columns": null,
            "grid_template_rows": null,
            "height": null,
            "justify_content": null,
            "justify_items": null,
            "left": null,
            "margin": null,
            "max_height": null,
            "max_width": null,
            "min_height": null,
            "min_width": null,
            "object_fit": null,
            "object_position": null,
            "order": null,
            "overflow": null,
            "overflow_x": null,
            "overflow_y": null,
            "padding": null,
            "right": null,
            "top": null,
            "visibility": null,
            "width": null
          }
        },
        "cdc80c3fe9c14a13a653e21590e1d0ad": {
          "model_module": "@jupyter-widgets/controls",
          "model_module_version": "1.5.0",
          "model_name": "HTMLModel",
          "state": {
            "_dom_classes": [],
            "_model_module": "@jupyter-widgets/controls",
            "_model_module_version": "1.5.0",
            "_model_name": "HTMLModel",
            "_view_count": null,
            "_view_module": "@jupyter-widgets/controls",
            "_view_module_version": "1.5.0",
            "_view_name": "HTMLView",
            "description": "",
            "description_tooltip": null,
            "layout": "IPY_MODEL_8ba73a9e85d24d18aa6bd812f7543d07",
            "placeholder": "​",
            "style": "IPY_MODEL_b7d341c77a0142a281165a278c2d2075",
            "value": " 786/786 [00:17&lt;00:00, 46.56 MiB/s]"
          }
        },
        "cfca48a0bb3c42b08dad8a9bb10578ab": {
          "model_module": "@jupyter-widgets/base",
          "model_module_version": "1.2.0",
          "model_name": "LayoutModel",
          "state": {
            "_model_module": "@jupyter-widgets/base",
            "_model_module_version": "1.2.0",
            "_model_name": "LayoutModel",
            "_view_count": null,
            "_view_module": "@jupyter-widgets/base",
            "_view_module_version": "1.2.0",
            "_view_name": "LayoutView",
            "align_content": null,
            "align_items": null,
            "align_self": null,
            "border": null,
            "bottom": null,
            "display": null,
            "flex": null,
            "flex_flow": null,
            "grid_area": null,
            "grid_auto_columns": null,
            "grid_auto_flow": null,
            "grid_auto_rows": null,
            "grid_column": null,
            "grid_gap": null,
            "grid_row": null,
            "grid_template_areas": null,
            "grid_template_columns": null,
            "grid_template_rows": null,
            "height": null,
            "justify_content": null,
            "justify_items": null,
            "left": null,
            "margin": null,
            "max_height": null,
            "max_width": null,
            "min_height": null,
            "min_width": null,
            "object_fit": null,
            "object_position": null,
            "order": null,
            "overflow": null,
            "overflow_x": null,
            "overflow_y": null,
            "padding": null,
            "right": null,
            "top": null,
            "visibility": null,
            "width": null
          }
        },
        "d00d6bdec40942b8a4a508ab3f754eae": {
          "model_module": "@jupyter-widgets/controls",
          "model_module_version": "1.5.0",
          "model_name": "HTMLModel",
          "state": {
            "_dom_classes": [],
            "_model_module": "@jupyter-widgets/controls",
            "_model_module_version": "1.5.0",
            "_model_name": "HTMLModel",
            "_view_count": null,
            "_view_module": "@jupyter-widgets/controls",
            "_view_module_version": "1.5.0",
            "_view_name": "HTMLView",
            "description": "",
            "description_tooltip": null,
            "layout": "IPY_MODEL_5076b324cef940a98cef370c28abf535",
            "placeholder": "​",
            "style": "IPY_MODEL_a1b56c67e5944255bc16aaa7af890b29",
            "value": "Generating splits...: 100%"
          }
        },
        "e29aa8beb1854ccdb0ab4e35abcc9357": {
          "model_module": "@jupyter-widgets/controls",
          "model_module_version": "1.5.0",
          "model_name": "DescriptionStyleModel",
          "state": {
            "_model_module": "@jupyter-widgets/controls",
            "_model_module_version": "1.5.0",
            "_model_name": "DescriptionStyleModel",
            "_view_count": null,
            "_view_module": "@jupyter-widgets/base",
            "_view_module_version": "1.2.0",
            "_view_name": "StyleView",
            "description_width": ""
          }
        },
        "e4765afbce064d3ba78154749c58e9b3": {
          "model_module": "@jupyter-widgets/controls",
          "model_module_version": "1.5.0",
          "model_name": "ProgressStyleModel",
          "state": {
            "_model_module": "@jupyter-widgets/controls",
            "_model_module_version": "1.5.0",
            "_model_name": "ProgressStyleModel",
            "_view_count": null,
            "_view_module": "@jupyter-widgets/base",
            "_view_module_version": "1.2.0",
            "_view_name": "StyleView",
            "bar_color": null,
            "description_width": ""
          }
        },
        "e597ae83aadf4f178953f0d4b52175da": {
          "model_module": "@jupyter-widgets/controls",
          "model_module_version": "1.5.0",
          "model_name": "DescriptionStyleModel",
          "state": {
            "_model_module": "@jupyter-widgets/controls",
            "_model_module_version": "1.5.0",
            "_model_name": "DescriptionStyleModel",
            "_view_count": null,
            "_view_module": "@jupyter-widgets/base",
            "_view_module_version": "1.2.0",
            "_view_name": "StyleView",
            "description_width": ""
          }
        },
        "e9a1113bbf064fc4b6689e1b2c7d80eb": {
          "model_module": "@jupyter-widgets/controls",
          "model_module_version": "1.5.0",
          "model_name": "FloatProgressModel",
          "state": {
            "_dom_classes": [],
            "_model_module": "@jupyter-widgets/controls",
            "_model_module_version": "1.5.0",
            "_model_name": "FloatProgressModel",
            "_view_count": null,
            "_view_module": "@jupyter-widgets/controls",
            "_view_module_version": "1.5.0",
            "_view_name": "ProgressView",
            "bar_style": "",
            "description": "",
            "description_tooltip": null,
            "layout": "IPY_MODEL_9cd03a02181a460a95daaca0d7b75ef5",
            "max": 23262,
            "min": 0,
            "orientation": "horizontal",
            "style": "IPY_MODEL_57d6ba743d28480eb10122c546f26efd",
            "value": 23262
          }
        },
        "edf90b544fb34d11a6347bcdd58b05d4": {
          "model_module": "@jupyter-widgets/controls",
          "model_module_version": "1.5.0",
          "model_name": "HBoxModel",
          "state": {
            "_dom_classes": [],
            "_model_module": "@jupyter-widgets/controls",
            "_model_module_version": "1.5.0",
            "_model_name": "HBoxModel",
            "_view_count": null,
            "_view_module": "@jupyter-widgets/controls",
            "_view_module_version": "1.5.0",
            "_view_name": "HBoxView",
            "box_style": "",
            "children": [
              "IPY_MODEL_58988c6ec9054ee0af2bf1d73d9ad722",
              "IPY_MODEL_f3a00890bc1c4b60961e03f22c29d649",
              "IPY_MODEL_28fc70ed13b543ed8dd55eaf5d6cc1a7"
            ],
            "layout": "IPY_MODEL_fcf0680788044c7996ecd16e8fd0637f"
          }
        },
        "f3a00890bc1c4b60961e03f22c29d649": {
          "model_module": "@jupyter-widgets/controls",
          "model_module_version": "1.5.0",
          "model_name": "FloatProgressModel",
          "state": {
            "_dom_classes": [],
            "_model_module": "@jupyter-widgets/controls",
            "_model_module_version": "1.5.0",
            "_model_name": "FloatProgressModel",
            "_view_count": null,
            "_view_module": "@jupyter-widgets/controls",
            "_view_module_version": "1.5.0",
            "_view_name": "ProgressView",
            "bar_style": "success",
            "description": "",
            "description_tooltip": null,
            "layout": "IPY_MODEL_c7e9f81db93a43c6879e55a85ce8121b",
            "max": 1,
            "min": 0,
            "orientation": "horizontal",
            "style": "IPY_MODEL_0f2ea6dfd5ff4927ad1837683fce3de7",
            "value": 1
          }
        },
        "fcf0680788044c7996ecd16e8fd0637f": {
          "model_module": "@jupyter-widgets/base",
          "model_module_version": "1.2.0",
          "model_name": "LayoutModel",
          "state": {
            "_model_module": "@jupyter-widgets/base",
            "_model_module_version": "1.2.0",
            "_model_name": "LayoutModel",
            "_view_count": null,
            "_view_module": "@jupyter-widgets/base",
            "_view_module_version": "1.2.0",
            "_view_name": "LayoutView",
            "align_content": null,
            "align_items": null,
            "align_self": null,
            "border": null,
            "bottom": null,
            "display": null,
            "flex": null,
            "flex_flow": null,
            "grid_area": null,
            "grid_auto_columns": null,
            "grid_auto_flow": null,
            "grid_auto_rows": null,
            "grid_column": null,
            "grid_gap": null,
            "grid_row": null,
            "grid_template_areas": null,
            "grid_template_columns": null,
            "grid_template_rows": null,
            "height": null,
            "justify_content": null,
            "justify_items": null,
            "left": null,
            "margin": null,
            "max_height": null,
            "max_width": null,
            "min_height": null,
            "min_width": null,
            "object_fit": null,
            "object_position": null,
            "order": null,
            "overflow": null,
            "overflow_x": null,
            "overflow_y": null,
            "padding": null,
            "right": null,
            "top": null,
            "visibility": null,
            "width": null
          }
        }
      }
    }
  },
  "nbformat": 4,
  "nbformat_minor": 0
}
